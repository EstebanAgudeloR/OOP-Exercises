{
  "nbformat": 4,
  "nbformat_minor": 0,
  "metadata": {
    "colab": {
      "provenance": [],
      "authorship_tag": "ABX9TyO3BWICOxsbA+QB/Xfcj56Y",
      "include_colab_link": true
    },
    "kernelspec": {
      "name": "python3",
      "display_name": "Python 3"
    },
    "language_info": {
      "name": "python"
    }
  },
  "cells": [
    {
      "cell_type": "markdown",
      "metadata": {
        "id": "view-in-github",
        "colab_type": "text"
      },
      "source": [
        "<a href=\"https://colab.research.google.com/github/EstebanAgudeloR/OOP-Exercises/blob/main/InheritencePOO.ipynb\" target=\"_parent\"><img src=\"https://colab.research.google.com/assets/colab-badge.svg\" alt=\"Open In Colab\"/></a>"
      ]
    },
    {
      "cell_type": "code",
      "execution_count": 2,
      "metadata": {
        "colab": {
          "base_uri": "https://localhost:8080/"
        },
        "id": "RS9YvcEf1ZNP",
        "outputId": "115b30cd-30c8-4dc0-f0b3-49d5aeace8e3"
      },
      "outputs": [
        {
          "output_type": "stream",
          "name": "stdout",
          "text": [
            "Tuut, tuut!\n",
            "Tuut, tuut!\n",
            "Ford Fiesta\n"
          ]
        }
      ],
      "source": [
        "class Vehicle:\n",
        "    def __init__(self):\n",
        "        self.brand = None\n",
        "\n",
        "    def honk(self):\n",
        "        print(\"Tuut, tuut!\")\n",
        "\n",
        "\n",
        "class Car(Vehicle):\n",
        "    def __init__(self):\n",
        "        super().__init__()\n",
        "        self.modelName = \"Mustang\"\n",
        "\n",
        "\n",
        "# Simulación del método main en Python\n",
        "if __name__ == \"__main__\":\n",
        "    myCar = Car()\n",
        "    myVehicle = Vehicle()\n",
        "\n",
        "    myVehicle.honk()\n",
        "\n",
        "    myCar.brand = \"Ford\"\n",
        "    myCar.modelName = \"Fiesta\"\n",
        "    myCar.honk()\n",
        "\n",
        "    print(myCar.brand + \" \" + myCar.modelName)"
      ]
    }
  ]
}